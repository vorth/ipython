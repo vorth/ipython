{
 "metadata": {
  "name": "",
  "signature": "sha256:717960c69e8d74b0e55dfb1b32ef653c20d564c11e155b0b2a70954a147e5476"
 },
 "nbformat": 3,
 "nbformat_minor": 0,
 "worksheets": [
  {
   "cells": [
    {
     "cell_type": "code",
     "collapsed": false,
     "input": [],
     "language": "python",
     "metadata": {},
     "outputs": []
    },
    {
     "cell_type": "heading",
     "level": 2,
     "metadata": {},
     "source": [
      "Part 2: Drawing the Heptagon"
     ]
    },
    {
     "cell_type": "markdown",
     "metadata": {},
     "source": [
      "The heptagon numbers we defined in [Part 1](http://nbviewer.ipython.org/github/vorth/ipython/blob/master/heptagons/HeptagonNumbers.ipynb) are obviously useful for defining lengths of lines in a figure like the one below, since all of those line lengths are related to the $\\rho$ and $\\sigma$ ratios.  But will heptagon numbers suffice for the coordinates we must give to a graphics library, to draw line segments on the screen?  The answer turns out to be yes, though we'll need one little trick to make it work.\n",
      "\n",
      "<img src=\"heptagonSampler.png\" width=1100 height=600 />\n"
     ]
    },
    {
     "cell_type": "heading",
     "level": 3,
     "metadata": {},
     "source": [
      "Finding the Heptagon Vertices"
     ]
    },
    {
     "cell_type": "markdown",
     "metadata": {},
     "source": [
      "To start with, we will try to construct coordinates for the seven vertices of the heptagon.  We will label the points as in the figure below, $P0$ through $P6$.\n",
      "\n",
      "<img src=\"heptagonVertices.png\" width=500 height=500 />\n",
      "\n",
      "For convenience, we can say that $P0$ is the origin of our coordinate system, so it will have coordinates $(0,0)$.  If the heptagon edge length is one, then the coordinates of point $P1$ are clearly $(1,0)$.  But now what?  We can use the Pythogorean theorem to find the coordinates of point $P4$, but we end up with $(1/2,a)$, where\n",
      "\n",
      "$$a = \\sqrt{\\sigma^2 - \\frac{1}{4}}\n",
      "   = \\sqrt{\\frac{3}{4} + \\rho + \\sigma} $$\n",
      "   \n",
      "This is annoying, since we have no way to take the square root of a heptagon number!  Fortunately, there is an easier way.\n",
      "\n",
      "Suppose we abandon our *usual* Cartesian coordinate frame, and use one that works a little more naturally for us?  We can use a different frame of reference, one where the \"y\" axis is defined as the line passing through points $P0$ and $P4$.  We can then model all the heptagon vertices quite naturally, and adjust for the modified frame of reference when we get to the point of drawing.\n",
      "\n",
      "For the sake of further convenience, let us scale everything up by a factor of $\\sigma$.  This makes it quite easy to write down the coordinates of all the points marked on the diagram above, including the three in the interior of the heptagon that I have included to help identify our new reference frame.  So now we have:\n",
      "\n",
      "|point|coordinates|\n",
      "|-----|-----------|\n",
      "|$P0$|$(0,0)$|\n",
      "|$P1$|$(\\sigma,0)$|\n",
      "|$P2$|$(1+\\sigma,\\rho)$|\n",
      "|$P3$|$(\\sigma,\\rho+\\sigma)$|\n",
      "|$P4$|$(0,1+\\rho+\\sigma)$|\n",
      "|$P5$|$(-\\rho,\\rho+\\sigma)$|\n",
      "|$P6$|$(-\\rho,\\rho)$|\n",
      "\n",
      "If we render our heptagon and heptagrams with these coordinates, *ignoring* the fact that we used an unusual coordinate frame, we get a skewed heptagon:\n",
      "\n",
      "<img src=\"skewHeptagon.png\" width=500 height=500 />\n",
      "\n",
      "This figure is certainly not *regular* in any usual sense, since\n",
      "the edge lengths and angles vary, but we could refer to it as an **affine regular heptagon** (and associated heptagrams).  In linear algebra, an *affine* transformation is one that preserves parallel lines and ratios along lines.  Those are exactly the properties that we took advantage of in capturing our coordinates.\n",
      "\n",
      "Although we have not yet discussed how we will accommodate the skew coordinate frame we've used, let's take a look at the Python code to capture the vertices used above."
     ]
    },
    {
     "cell_type": "code",
     "collapsed": false,
     "input": [
      "# load the definitions from the previous notebook\n",
      "%run HeptagonNumbers.py\n",
      "\n",
      "# represent points or vertices as pairs of heptagon numbers\n",
      "\n",
      "p0 = ( zero, zero )\n",
      "p1 = ( sigma, zero )\n",
      "p2 = ( plus( one, sigma ), rho )\n",
      "p3 = ( sigma, rho_sigma )\n",
      "p4 = ( zero, sigma_2 )\n",
      "p5 = ( neg( rho ), rho_sigma )\n",
      "p6 = ( neg( rho ), rho )\n",
      "\n",
      "heptagon = [ p0, p1, p2, p3, p4, p5, p6 ]\n",
      "\n",
      "heptagram_rho = [ p0, p2, p4, p6, p1, p3, p5 ]\n",
      "\n",
      "heptagram_sigma = [ p0, p3, p6, p2, p5, p1, p4 ]\n"
     ],
     "language": "python",
     "metadata": {},
     "outputs": [],
     "prompt_number": 33
    },
    {
     "cell_type": "heading",
     "level": 3,
     "metadata": {},
     "source": [
      "Evaluating a Heptagon Number"
     ]
    },
    {
     "cell_type": "markdown",
     "metadata": {},
     "source": [
      "\n",
      "We are almost ready to look at Python code for drawing these figures.  The last step is to provide a mapping from heptagon numbers to real numbers, since any drawing library requires us to provide points as $(x,y)$ pairs, where $x$ and $y$ are floating-point numbers.  This is easy, of course: we just evaluate the expression $a+b\\rho+c\\sigma$, using predefined values for $\\rho$ and $\\sigma$.  But what are those values?\n",
      "\n",
      "We can easily derive them from a tiny bit of trigonometry, looking at our heptagon-plus-heptagrams figure again.\n",
      "\n",
      "<img src=\"findingConstants.png\" width=500 height=500 />\n",
      "\n",
      "I have rotated the heptagon a bit, so we see angles presented in the traditional way, with zero radians corresponding to the X axis, to the right.  We can find $\\sigma$ using the right triangle $ABC$.  If our heptagon has edge length of one, then line segment $AB$ has length $\\sigma$, by definition, and line segment $BC$ has length $1/2$.  Remembering the formula for the sine function, we can see that\n",
      "\n",
      "$$\\sin \\angle CAB = \\frac{1/2}{\\sigma} = \\frac{1}{2\\sigma}$$\n",
      "\n",
      "which means that\n",
      "\n",
      "$$\\sigma = \\frac{1}{2\\sin \\angle CAB}$$\n",
      "\n",
      "Now we just need to know what angle $\\angle CAB$ is.  Here, you can have some fun by convincing yourself that $\\angle CAB$ is equal to $\\pi/14$ radians.  As a hint, first use similar triangles to show that all those narrow angles at the heptagon vertices are equal to $\\pi/7$.  In any case, we have our value for $\\sigma$:\n",
      "\n",
      "$$\\sigma = \\frac{1}{2\\sin{\\frac{\\pi}{14}}} $$\n",
      "\n",
      "Computing $\\rho$ is just as easy.  It is convenient to use triangle $ADE$, with the following results:\n",
      "\n",
      "$$\\frac{\\rho}{2} = \\sin{\\angle EAD} = \\sin{\\frac{5\\pi}{14}}$$\n",
      "\n",
      "$$\\rho = 2\\sin{\\frac{5\\pi}{14}}$$\n",
      "\n",
      "Converting the results into Python code, we can capture our values of $\\rho$ and $\\sigma$ as constants, for later use in the drawing code.\n"
     ]
    },
    {
     "cell_type": "code",
     "collapsed": false,
     "input": [
      "\n",
      "sigma_real = 1 / (2* math.sin(math.pi/14))\n",
      "sigma_real"
     ],
     "language": "python",
     "metadata": {},
     "outputs": [
      {
       "metadata": {},
       "output_type": "pyout",
       "prompt_number": 29,
       "text": [
        "2.246979603717467"
       ]
      }
     ],
     "prompt_number": 29
    },
    {
     "cell_type": "code",
     "collapsed": false,
     "input": [
      "\n",
      "rho_real = 2*math.sin(5*math.pi/14)\n",
      "rho_real"
     ],
     "language": "python",
     "metadata": {},
     "outputs": [
      {
       "metadata": {},
       "output_type": "pyout",
       "prompt_number": 31,
       "text": [
        "1.8019377358048383"
       ]
      }
     ],
     "prompt_number": 31
    },
    {
     "cell_type": "heading",
     "level": 3,
     "metadata": {},
     "source": [
      "Python Code for Drawing"
     ]
    },
    {
     "cell_type": "markdown",
     "metadata": {},
     "source": [
      "Although we have not yet discussed how we will accommodate the skew coordinate frame we've used, let's take a look at the Python code to render the skewed heptagon shown earlier.  First, we need to have access to the heptagon number implementation we saw in Part 1."
     ]
    },
    {
     "cell_type": "code",
     "collapsed": false,
     "input": [
      "\n",
      "def scale( s, v ) :\n",
      "    x, y = v\n",
      "    return ( times( s, x ), times( s, y ) )\n",
      "\n",
      "def plusv( v1, v2 ) :\n",
      "    h1, h2 = v1\n",
      "    h3, h4 = v2\n",
      "    return ( plus( h1, h3 ), plus( h2, h4 ) )\n",
      "\n",
      "v0 = ( rho_sigma, zero )\n",
      "v1 = ( sigma_inv, sigma_inv )\n",
      "\n",
      "origin = ( zero, zero )\n"
     ],
     "language": "python",
     "metadata": {},
     "outputs": [],
     "prompt_number": 27
    },
    {
     "cell_type": "code",
     "collapsed": false,
     "input": [
      "def render( v ):\n",
      "    x, y = v\n",
      "    return [ asReal(x), asReal(y) ]\n"
     ],
     "language": "python",
     "metadata": {},
     "outputs": [],
     "prompt_number": 28
    },
    {
     "cell_type": "code",
     "collapsed": false,
     "input": [
      "\n",
      "def heptagonVerts(v,skip=1):\n",
      "    result = []\n",
      "    vi = v\n",
      "    for i in range(7):\n",
      "        result .append( render( vi ) )\n",
      "        for j in range(skip):\n",
      "            vi = rotate( vi )\n",
      "    return result\n",
      "\n",
      "v0 = ( rho_sigma, zero )\n",
      "heptagon1 = heptagonVerts( v0 )\n",
      "heptagon2 = heptagonVerts( plusv( v0, v1 ) )\n",
      "heptagon3 = heptagonVerts( plusv( plusv( v0, v1 ), v1 ) )\n",
      "heptagon4 = heptagonVerts( ( neg( rho_sigma ), zero ) )\n",
      "\n",
      "heptagram1 = heptagonVerts( v0, 2 )\n",
      "heptagram2 = heptagonVerts( plusv( v0, v1 ), 3 )\n"
     ],
     "language": "python",
     "metadata": {},
     "outputs": [],
     "prompt_number": 6
    },
    {
     "cell_type": "markdown",
     "metadata": {},
     "source": [
      "A tiny bit of trigonometry and linear algebra yields a matrix to perform the necessary shear transformation:\n",
      "\n",
      "$$\\begin{bmatrix}1 & \\frac{1}{2\\sigma} \\\\0 & \\sin\\frac{3}{7}\\pi\\end{bmatrix}$$"
     ]
    }
   ],
   "metadata": {}
  }
 ]
}