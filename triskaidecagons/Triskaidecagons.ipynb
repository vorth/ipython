{
 "cells": [
  {
   "cell_type": "markdown",
   "metadata": {},
   "source": [
    "# Rendering Triskaidecagrams"
   ]
  },
  {
   "cell_type": "markdown",
   "metadata": {},
   "source": [
    "This notebook contains a program for rendering a triskaidecagon (13-sided regular polygon), together with all its inscribed triskaidecagrams.  My approach here consciously adopts a couple of constraints. First, I compute everything with exact arithmetic, using integers rather than floating point numbers.  Second, I compute intersection points by applying proportions, rather than by intersecting lines."
   ]
  },
  {
   "cell_type": "markdown",
   "metadata": {},
   "source": [
    "## Triskaidecagon Numbers"
   ]
  },
  {
   "cell_type": "markdown",
   "metadata": {},
   "source": [
    "The first section of code below contains an implementation of the triskaidecagon number field, a field derived from the diagonals of the triskaidecagram as described in Steinbach2000 and Steinbach2004.  I use $\\alpha$, $\\beta$, $\\gamma$, $\\delta$, and $\\epsilon$ for the diagonals of a unit-sided triskaidecagram, in order of increasing length.  Any field element has the form $a+b\\alpha+c\\beta+d\\gamma+e\\delta+f\\epsilon$, for some rational numbers $a$, $b$, $c$, $d$, and $e$.\n",
    "\n",
    "Given the table of basic products and quotients below, I can scale any number or vector up or down by factors of $\\alpha$, $\\beta$, $\\gamma$, $\\delta$, and $\\epsilon$.  With this ability, I don't actually require general division, so I can limit my coefficients to integers rather than rationals.\n",
    "\n",
    "|          | $\\theta$ | $\\kappa$ | $\\lambda$ | $\\mu$ |\n",
    "|----------|----------|---------|----------|----------|\n",
    "| $\\theta$ | $\\theta\\theta=1+\\kappa$ | $\\theta\\kappa=\\theta+\\lambda$ | $\\theta\\lambda=\\kappa+\\mu$ | $\\theta\\mu=\\lambda+\\mu$ |\n",
    "| $\\kappa$  |         | $\\kappa\\kappa=1+\\kappa+\\mu$ | $\\kappa\\lambda=\\theta+\\lambda+\\mu$ | $\\kappa\\mu=\\kappa+\\lambda+\\mu$ |\n",
    "| $\\lambda$ |         |         | $\\lambda\\lambda=1+\\kappa+\\lambda+\\mu$ | $\\lambda\\mu=\\theta+\\kappa+\\lambda+\\mu$ |\n",
    "| $\\mu$ |         |         |         | $\\mu\\mu=1+\\theta+\\kappa+\\lambda+\\mu$ |\n",
    "\n",
    "|          | $\\theta$ | $\\kappa$ | $\\lambda$ | $\\mu$ |\n",
    "|----------|----------|---------|----------|----------|\n",
    "| $1$ | $1/\\theta=1+\\theta-\\kappa-\\lambda+\\mu$ | $1/\\kappa=\\theta+\\kappa-\\lambda-1$ | $1/\\lambda=\\lambda-\\theta-1$ | $1/\\mu=\\mu-\\lambda$ |\n",
    "| $\\theta$ |         | $\\theta/\\kappa=1+\\lambda-\\mu$ | $\\theta/\\lambda=\\lambda-\\theta-1$ | $\\theta/\\mu=\\lambda-\\kappa$ |\n",
    "| $\\kappa$  | $\\kappa/\\theta=\\kappa+\\lambda-\\mu-1$ |     | $\\kappa/\\lambda=\\mu-\\kappa$ | $\\kappa/\\mu=\\kappa-\\theta$ |\n",
    "| $\\lambda$ | $\\lambda/\\theta=\\kappa-1$ | $\\lambda/\\kappa=\\theta+\\mu-\\lambda-1$ |  | $\\lambda/\\mu=\\theta-1$ |\n",
    "| $\\mu$ | $\\mu/\\theta=1+\\mu-\\kappa$ | $\\mu/\\kappa=\\lambda-\\theta$ | $\\mu/\\lambda=\\theta+\\kappa-\\mu$ |  $ $ |\n",
    "\n",
    "All of these products and quotients can be derived using basic geometry, by considering various similar triangles in the triskaidecagon and inscribed triskaidecagrams.  I've explained the technique in more detail with respect to the [heptagon field](http://nbviewer.ipython.org/github/vorth/ipython/blob/master/heptagons/HeptagonNumbers.ipynb).\n",
    "\n",
    "The code below is mostly a collection of special functions, to overload arithmetic operators for the class.  This will be very important for readability of the code later in the notebook."
   ]
  },
  {
   "cell_type": "code",
   "execution_count": 22,
   "metadata": {
    "collapsed": false
   },
   "outputs": [
    {
     "name": "stdout",
     "output_type": "stream",
     "text": [
      "α = 1.94188363485\n",
      "β = 2.77091205131\n",
      "γ = 3.43890513119\n",
      "δ = 3.90704154477\n",
      "ε = 4.14811490528\n",
      "γε = β+γ+δ+ε\n",
      "δβ = β+δ+ε\n",
      "γγ = 1+β+δ+ε\n",
      "αγ = β+δ\n",
      "δε = α+β+γ+δ+ε\n",
      "δ4 = 4δ\n"
     ]
    }
   ],
   "source": [
    "import math\n",
    "\n",
    "class TriskaidecagonNumber(object):\n",
    "    def __init__( self, ones=0, alpha=0, beta=0, gamma=0, delta=0, epsilon=0 ):\n",
    "        self.ones = ones\n",
    "        self.alpha = alpha\n",
    "        self.beta = beta\n",
    "        self.gamma = gamma\n",
    "        self.delta = delta\n",
    "        self.epsilon = epsilon\n",
    "\n",
    "    def __add__( self, rhs ):  #self and rhs are TriskaidecagonNumber objects\n",
    "        return TriskaidecagonNumber(\n",
    "                self.ones+rhs.ones,\n",
    "                self.alpha+rhs.alpha,\n",
    "                self.beta+rhs.beta,\n",
    "                self.gamma+rhs.gamma,\n",
    "                self.delta+rhs.delta,\n",
    "                self.epsilon+rhs.epsilon )\n",
    "\n",
    "    def __sub__( self, rhs ):  #self and rhs are TriskaidecagonNumber objects\n",
    "        return TriskaidecagonNumber(\n",
    "                self.ones-rhs.ones,\n",
    "                self.alpha-rhs.alpha,\n",
    "                self.beta-rhs.beta,\n",
    "                self.gamma-rhs.gamma,\n",
    "                self.delta-rhs.delta,\n",
    "                self.epsilon-rhs.epsilon )\n",
    "\n",
    "    def __neg__( self ) :\n",
    "        return TriskaidecagonNumber( -self.ones, -self.alpha, -self.beta, -self.gamma, -self.delta, -self.epsilon )\n",
    "\n",
    "    def timesalpha( self ) :\n",
    "        return TriskaidecagonNumber(\n",
    "                self.alpha,\n",
    "                self.ones + self.beta,\n",
    "                self.alpha + self.gamma,\n",
    "                self.delta + self.beta,\n",
    "                self.epsilon + self.gamma,\n",
    "                self.delta + self.epsilon )\n",
    "\n",
    "    def timesbeta( self ) :\n",
    "        return TriskaidecagonNumber(\n",
    "                self.beta,\n",
    "                self.alpha + self.gamma,\n",
    "                self.ones + self.beta + self.delta,\n",
    "                self.alpha + self.gamma + self.epsilon,\n",
    "                self.delta + self.beta + self.epsilon,\n",
    "                self.delta + self.gamma + self.epsilon )\n",
    "\n",
    "    def timesgamma( self ) :\n",
    "        return TriskaidecagonNumber(\n",
    "                self.gamma,\n",
    "                self.beta + self.delta,\n",
    "                self.alpha + self.gamma + self.epsilon,\n",
    "                self.beta + self.delta + self.ones + self.epsilon,\n",
    "                self.alpha + self.gamma + self.epsilon + self.delta,\n",
    "                self.beta + self.delta + self.gamma + self.epsilon )\n",
    "\n",
    "    def timesdelta( self ) :\n",
    "        return TriskaidecagonNumber(\n",
    "                self.delta,\n",
    "                self.gamma + self.epsilon,\n",
    "                self.beta + self.delta + self.epsilon,\n",
    "                self.alpha + self.gamma + self.delta + self.epsilon,\n",
    "                self.ones + self.beta + self.gamma + self.delta + self.epsilon,\n",
    "                self.alpha + self.beta + self.gamma + self.delta + self.epsilon )\n",
    "\n",
    "    def timesepsilon( self ) :\n",
    "        return TriskaidecagonNumber(\n",
    "                self.epsilon,\n",
    "                self.delta + self.epsilon,\n",
    "                self.gamma + self.delta + self.epsilon,\n",
    "                self.beta + self.gamma + self.delta + self.epsilon,\n",
    "                self.alpha + self.beta + self.gamma + self.delta + self.epsilon,\n",
    "                self.ones + self.alpha + self.beta + self.gamma + self.delta + self.epsilon )\n",
    "\n",
    "    def __mul__( self, rhs ) :\n",
    "        if isinstance( rhs, self.__class__ ):\n",
    "            return ( self * rhs.ones ) .__add__(\n",
    "                ( self .timesalpha() * rhs.alpha ) .__add__(\n",
    "                ( self .timesbeta() * rhs.beta ) .__add__(\n",
    "                ( self .timesgamma() * rhs.gamma ) .__add__(\n",
    "                ( self .timesdelta() * rhs.delta ) .__add__(\n",
    "                ( self .timesepsilon() * rhs.epsilon ) ) ) ) ) )\n",
    "        elif isinstance( rhs, int ):\n",
    "            return TriskaidecagonNumber(\n",
    "                self.ones*rhs,\n",
    "                self.alpha*rhs,\n",
    "                self.beta*rhs,\n",
    "                self.gamma*rhs,\n",
    "                self.delta*rhs,\n",
    "                self.epsilon*rhs )\n",
    "        else:\n",
    "            raise TypeError(\"unsupported operand type(s) for +: '{}' and '{}'\").format(self.__class__, type(other))\n",
    "\n",
    "    def __str__( self ):\n",
    "        s = u\"\"\n",
    "        if self.ones != 0 :\n",
    "            s = s + u\"%d\" % ( self.ones )\n",
    "        if self.alpha != 0 :\n",
    "            if len(s) > 0 :\n",
    "                s = s + u\"+\"\n",
    "            if self.alpha != 1 :\n",
    "                s = s + u\"%d\" % ( self.alpha )\n",
    "            s = s + u\"\\u03B1\"\n",
    "        if self.beta != 0 :\n",
    "            if len(s) > 0 :\n",
    "                s = s + u\"+\"\n",
    "            if self.beta != 1 :\n",
    "                s = s + u\"%d\" % ( self.beta )\n",
    "            s = s + u\"\\u03B2\"\n",
    "        if self.gamma != 0 :\n",
    "            if len(s) > 0 :\n",
    "                s = s + u\"+\"\n",
    "            if self.gamma != 1 :\n",
    "                s = s + u\"%d\" % ( self.gamma )\n",
    "            s = s + u\"\\u03B3\"\n",
    "        if self.delta != 0 :\n",
    "            if len(s) > 0 :\n",
    "                s = s + u\"+\"\n",
    "            if self.delta != 1 :\n",
    "                s = s + u\"%d\" % ( self.delta )\n",
    "            s = s + u\"\\u03B4\"\n",
    "        if self.epsilon != 0 :\n",
    "            if len(s) > 0 :\n",
    "                s = s + u\"+\"\n",
    "            if self.epsilon != 1 :\n",
    "                s = s + u\"%d\" % ( self.epsilon )\n",
    "            s = s + u\"\\u03B5\"\n",
    "        return s.encode('utf-8') \n",
    "\n",
    "    denom = math.sin( math.pi/13 )\n",
    "    alpha_real = math.sin( 2*math.pi/13 ) / denom\n",
    "    beta_real = math.sin( 3*math.pi/13 ) / denom\n",
    "    gamma_real = math.sin( 4*math.pi/13 ) / denom\n",
    "    delta_real = math.sin( 5*math.pi/13 ) / denom\n",
    "    epsilon_real = math.sin( 6*math.pi/13 ) / denom\n",
    "    \n",
    "    def __float__( self ) :\n",
    "        return self.ones + \\\n",
    "            self.alpha_real * self.alpha + \\\n",
    "            self.beta_real * self.beta + \\\n",
    "            self.gamma_real * self.gamma + \\\n",
    "            self.delta_real * self.delta + \\\n",
    "            self.epsilon_real * self.epsilon\n",
    "\n",
    "zero    = TriskaidecagonNumber()\n",
    "one     = TriskaidecagonNumber(1)\n",
    "alpha   = TriskaidecagonNumber(0,1)\n",
    "beta    = TriskaidecagonNumber(0,0,1)\n",
    "gamma   = TriskaidecagonNumber(0,0,0,1)\n",
    "delta   = TriskaidecagonNumber(0,0,0,0,1)\n",
    "epsilon = TriskaidecagonNumber(0,0,0,0,0,1)\n",
    "\n",
    "alpha_inv = alpha + beta + epsilon - beta - gamma - one\n",
    "beta_inv = beta + gamma - alpha - delta\n",
    "gamma_inv = one + gamma - epsilon\n",
    "delta_inv = delta + gamma - one - alpha - epsilon\n",
    "epsilon_inv = epsilon - delta\n",
    "\n",
    "print str(alpha)   + \" = \" + str(TriskaidecagonNumber.alpha_real)\n",
    "print str(beta)    + \" = \" + str(TriskaidecagonNumber.beta_real)\n",
    "print str(gamma)   + \" = \" + str(TriskaidecagonNumber.gamma_real)\n",
    "print str(delta)   + \" = \" + str(TriskaidecagonNumber.delta_real)\n",
    "print str(epsilon) + \" = \" + str(TriskaidecagonNumber.epsilon_real)\n",
    "\n",
    "def printProd( h1, h2 ) :\n",
    "    print str(h1) + str(h2) + \" = \" + str(h1*h2)\n",
    "    \n",
    "printProd( gamma, epsilon )\n",
    "printProd( delta, beta )\n",
    "printProd( gamma, gamma )\n",
    "printProd( alpha, gamma )\n",
    "printProd( delta, epsilon )\n",
    "printProd( delta, 4 )\n",
    "\n",
    "D = [ one for x in range(13) ]\n",
    "D[2] = D[11] = alpha\n",
    "D[3] = D[10] = beta\n",
    "D[4] = D[9] = gamma\n",
    "D[5] = D[8] = delta\n",
    "D[6] = D[7] = epsilon\n",
    "\n",
    "I = [ one for x in range(13) ]\n",
    "I[2] = I[11] = alpha_inv\n",
    "I[3] = I[10] = beta_inv\n",
    "I[4] = I[9] = gamma_inv\n",
    "I[5] = I[8] = delta_inv\n",
    "I[6] = I[7] = epsilon_inv\n"
   ]
  },
  {
   "cell_type": "markdown",
   "metadata": {},
   "source": [
    "## Vectors and Rendering"
   ]
  },
  {
   "cell_type": "markdown",
   "metadata": {},
   "source": [
    "The next section of code is a simple implementation of two-dimensional vectors over the hendecagon numbers.  The only noteworthy point here is the render function, which does two things.  First, it converts the coordinate hendecagon numbers to real numbers.  Next, it performs a skew transformation to map from the initial coordinate frame to the frame I need to use for drawing.  These coordinate frames are different because the first one allows a simple encoding of the hendecagon vertices, using a frame aligned with a diagonal of the hendecagon.  This simplifies all the later computations based on these vertices.  The only cost is to perform the skew transformation when it is time to render to the screen.\n",
    "\n",
    "<img src=\"hendecagon-coordinates-skew.png\" />\n",
    "\n",
    "The code to generate the figure above is found later in the notebook."
   ]
  },
  {
   "cell_type": "code",
   "execution_count": 23,
   "metadata": {
    "collapsed": false
   },
   "outputs": [],
   "source": [
    "\n",
    "class Vector(object):\n",
    "\n",
    "    def __init__( self, x, y ):\n",
    "        self.x = x\n",
    "        self.y = y\n",
    "\n",
    "    def __mul__( self, rhs ) :\n",
    "        return Vector( rhs .__mul__( self.x ), rhs .__mul__( self.y ) )\n",
    "\n",
    "    def __add__( self, rhs ) :\n",
    "        return Vector( self.x + rhs.x, self.y + rhs.y )\n",
    "\n",
    "    def __sub__( self, rhs ) :\n",
    "        return Vector( self.x - rhs.x, self.y - rhs.y )\n",
    "\n",
    "    def __neg__( self ) :\n",
    "        return Vector( -self.x, -self.y )\n",
    "\n",
    "    def __str__( self ):\n",
    "        return \"[ \" + str( self.x ) + \", \" + str( self.y ) + \" ]\"\n",
    "\n",
    "    def render( self ):\n",
    "        x = float( self.x )\n",
    "        y = float( self.y )\n",
    "        A = math.sin( (6.0/13.0) * math.pi )\n",
    "        x = float( self.x ) + float( self.y ) / (2*TriskaidecagonNumber.epsilon_real)\n",
    "        y = A * float( self.y )\n",
    "        return [ x, y ]\n",
    "\n",
    "origin = Vector( zero, zero )\n"
   ]
  },
  {
   "cell_type": "markdown",
   "metadata": {},
   "source": [
    "## Triskaidecagon Vertices"
   ]
  },
  {
   "cell_type": "markdown",
   "metadata": {},
   "source": [
    "The code below defines the vertices of the triskaidecagon, then constructs lists of those vertices representing the triskaidecagon and all four of the inscribed triskaidecagrams."
   ]
  },
  {
   "cell_type": "code",
   "execution_count": 24,
   "metadata": {
    "collapsed": false
   },
   "outputs": [
    {
     "name": "stdout",
     "output_type": "stream",
     "text": [
      "17.2068572674\n"
     ]
    }
   ],
   "source": [
    "\n",
    "p = [ Vector( one, zero ) for x in range(13) ]\n",
    "p[0] = Vector( zero, zero )\n",
    "p[1] = Vector( - delta, alpha )\n",
    "p[2] = Vector( - beta - delta, alpha + gamma )\n",
    "p[3] = Vector( - one - beta - delta, gamma * beta )\n",
    "p[4] = Vector( - beta - delta, gamma * delta )\n",
    "p[5] = Vector( - delta, delta * epsilon )\n",
    "p[6] = Vector( zero, epsilon * epsilon )\n",
    "p[7] = Vector( epsilon, delta * epsilon )\n",
    "p[8] = Vector( gamma + epsilon, gamma * delta )\n",
    "p[9] = Vector( gamma * beta, gamma * beta )\n",
    "p[10] = Vector( gamma * beta, alpha + gamma )\n",
    "p[11] = Vector( gamma + epsilon, alpha )\n",
    "p[12] = Vector( epsilon, zero )\n",
    "\n",
    "triskaidecagrams = [ [ p[ (n * m) % 13 ] for m in range(13) ] for n in range(7) ]\n",
    "\n",
    "print (str(float(epsilon * epsilon)))\n"
   ]
  },
  {
   "cell_type": "code",
   "execution_count": 50,
   "metadata": {
    "collapsed": false
   },
   "outputs": [],
   "source": [
    "\n",
    "import random\n",
    "\n",
    "def diagonalIntersection( p, a, b, c, d ):\n",
    "    # a, b = indices of endpoints of one diagonal\n",
    "    # c, d = indices of endpoints of other diagonal\n",
    "    n = len( p )\n",
    "    e = ( d - a ) % n\n",
    "    f = ( n - ( c + d ) + ( a + b ) ) % n\n",
    "    g = ( c - a ) % n\n",
    "    h = ( b - a ) % n\n",
    "    return p[a] + ( p[b] - p[a] ) * D[e] * D[g] * I[f] * I[h]\n",
    "\n",
    "def diagonalIntersectionLoop( n ):\n",
    "    loop = []\n",
    "    edges = (n-1)/2\n",
    "    used = [ False for i in range(edges) ]\n",
    "    a = random .randint( 0, n-1 )\n",
    "    b = random .randint( a+2, n-1+a-2 ) % n\n",
    "    a0 = a\n",
    "    b0 = b\n",
    "    for i in range(2,(n-1)/2):\n",
    "        if ( b < a ):\n",
    "            swap = b\n",
    "            b = a\n",
    "            a = swap\n",
    "        diff = (b-a)%n\n",
    "        if diff > edges:\n",
    "            diff = n-diff\n",
    "        print str(a) + \" \" + str(b) + \" \" + str(diff)\n",
    "        used[ diff-1 ] = True\n",
    "        # now a < b\n",
    "        c = random .randint( a+1, b-1 ) % n\n",
    "        d = random .randint( b+1, a-1+n ) % n\n",
    "        loop .append( diagonalIntersection( p, a, b, c, d ) )\n",
    "        a = c\n",
    "        b = d\n",
    "    loop .append( diagonalIntersection( p, a, b, a0, b0 ) )\n",
    "    return loop\n",
    "\n",
    "    "
   ]
  },
  {
   "cell_type": "code",
   "execution_count": 51,
   "metadata": {
    "collapsed": false
   },
   "outputs": [
    {
     "name": "stdout",
     "output_type": "stream",
     "text": [
      "Populating the interactive namespace from numpy and matplotlib\n",
      "1 10 4\n",
      "5 12 6\n",
      "4 11 6\n",
      "3 5 2\n"
     ]
    },
    {
     "data": {
      "text/plain": [
       "(-10.0, 15.0, -5.0, 20.0)"
      ]
     },
     "execution_count": 51,
     "metadata": {},
     "output_type": "execute_result"
    },
    {
     "data": {
      "image/png": "[encoded data removed]",
      "text/plain": [
       "<matplotlib.figure.Figure at 0x106d28ad0>"
      ]
     },
     "metadata": {},
     "output_type": "display_data"
    }
   ],
   "source": [
    "%pylab --no-import-all inline\n",
    "\n",
    "import matplotlib.pyplot as plt\n",
    "import matplotlib.path as mpath\n",
    "import matplotlib.patches as mpatches\n",
    "Path = mpath.Path\n",
    "\n",
    "def drawPolygon( polygonVerts, color ):\n",
    "    n = len( polygonVerts )\n",
    "    codes = [ Path.MOVETO ]\n",
    "    verts = []\n",
    "    verts .append( polygonVerts[ 0 ] .render() )\n",
    "    for i in range(1,n+1):\n",
    "        codes.append ( Path.LINETO )\n",
    "        verts.append ( polygonVerts[ i % n ] .render() )\n",
    "    path = mpath.Path( verts, codes )\n",
    "    return mpatches.PathPatch( path, facecolor='none', edgecolor=color )\n",
    "\n",
    "def drawIntersection( p, a, b, c, d, color ):\n",
    "    inter = diagonalIntersection( p, a, b, c, d )\n",
    "    codes = []\n",
    "    verts = []\n",
    "    codes .append( Path.MOVETO )\n",
    "    verts .append( p[ a ] .render() )\n",
    "    codes .append( Path.LINETO )\n",
    "    verts .append( inter .render() )\n",
    "    codes .append( Path.MOVETO )\n",
    "    verts .append( p[ b ] .render() )\n",
    "    codes .append( Path.LINETO )\n",
    "    verts .append( inter .render() )\n",
    "    codes .append( Path.MOVETO )\n",
    "    verts .append( p[ c ] .render() )\n",
    "    codes .append( Path.LINETO )\n",
    "    verts .append( inter .render() )\n",
    "    codes .append( Path.MOVETO )\n",
    "    verts .append( p[ d ] .render() )\n",
    "    codes .append( Path.LINETO )\n",
    "    verts .append( inter .render() )\n",
    "    path = mpath.Path( verts, codes )\n",
    "    return mpatches.PathPatch( path, facecolor='none', edgecolor=color )\n",
    "\n",
    "fig = plt.figure(figsize=(25,25))\n",
    "\n",
    "ax = fig.add_subplot(111)\n",
    "\n",
    "ax.set_xlim(-10,15)\n",
    "ax.set_ylim(-5,20)\n",
    "\n",
    "for i in range(2):\n",
    "    ax.add_patch( drawPolygon( triskaidecagrams[i], '#005866' ) )\n",
    "\n",
    "#ax.add_patch( drawIntersection( p, 1, 5, 6, 3, '#434f00' ) )\n",
    "\n",
    "ax.add_patch( drawPolygon( diagonalIntersectionLoop( len( p ) ), '#a39200' ) )\n",
    "\n",
    "ax.axis('off')\n",
    "#fig.savefig( \"triskaidecagon-exp01.pdf\" )\n"
   ]
  },
  {
   "cell_type": "markdown",
   "metadata": {},
   "source": [
    "## The Skew Coordinates"
   ]
  },
  {
   "cell_type": "code",
   "execution_count": null,
   "metadata": {
    "collapsed": false
   },
   "outputs": [],
   "source": []
  }
 ],
 "metadata": {
  "kernelspec": {
   "display_name": "Python 2",
   "language": "python",
   "name": "python2"
  },
  "language_info": {
   "codemirror_mode": {
    "name": "ipython",
    "version": 2
   },
   "file_extension": ".py",
   "mimetype": "text/x-python",
   "name": "python",
   "nbconvert_exporter": "python",
   "pygments_lexer": "ipython2",
   "version": "2.7.10"
  }
 },
 "nbformat": 4,
 "nbformat_minor": 0
}
